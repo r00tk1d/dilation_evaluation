{
 "cells": [
  {
   "cell_type": "code",
   "execution_count": 13,
   "metadata": {},
   "outputs": [],
   "source": [
    "import os\n",
    "import time\n",
    "import numpy as np\n",
    "import matplotlib.pyplot as plt\n",
    "import pandas as pd\n",
    "\n",
    "from sktime.classification.dictionary_based import BOSSEnsemble\n",
    "from sktime.classification.dictionary_based import BOSSEnsembleDilation\n",
    "from sktime.classification.interval_based import TimeSeriesForestClassifier\n",
    "from sktime.classification.shapelet_based import ShapeletTransformClassifier\n",
    "from sktime.classification.shapelet_based import ShapeletTransformClassifierDilation\n",
    "\n",
    "from sklearn.metrics import accuracy_score\n",
    "\n",
    "from sktime.benchmarking.data import UEADataset, make_datasets\n",
    "from sktime.benchmarking.evaluation import Evaluator\n",
    "from sktime.benchmarking.metrics import PairwiseMetric\n",
    "from sktime.benchmarking.orchestration import Orchestrator\n",
    "from sktime.benchmarking.results import HDDResults\n",
    "from sktime.benchmarking.strategies import TSCStrategy\n",
    "from sktime.benchmarking.tasks import TSCTask\n",
    "\n",
    "from sktime.series_as_features.model_selection import PresplitFilesCV\n",
    "\n",
    "from convst.classifiers import R_DST_Ridge\n",
    "from convst.utils.dataset_utils import load_sktime_dataset_split\n",
    "\n",
    "from sktime.datasets import load_from_tsfile\n",
    "from sktime.datatypes._panel._convert import from_nested_to_3d_numpy\n",
    "\n",
    "from sklearn.preprocessing import LabelEncoder"
   ]
  },
  {
   "cell_type": "markdown",
   "metadata": {},
   "source": [
    "### Settings ###"
   ]
  },
  {
   "cell_type": "code",
   "execution_count": 18,
   "metadata": {},
   "outputs": [],
   "source": [
    "\n",
    "# must be an integer > 0\n",
    "# 1 for no dilation\n",
    "max_d = 10\n",
    "\n",
    "# min_d must be an integer <= max_d and >= 1\n",
    "min_d = 1\n",
    "\n",
    "window_sizes = [7, 9, 11]\n",
    "\n",
    "DATA_PATH = \"./Univariate_ts\"\n",
    "datasets = make_datasets(\n",
    "    path=DATA_PATH, dataset_cls=UEADataset, names=[\"ArrowHead\"]\n",
    ")\n",
    "\n",
    "clfs = [\n",
    "    [BOSSEnsemble(), \"BOSS\"],\n",
    "    [BOSSEnsembleDilation(max_dilation=max_d, min_dilation=1), \"BOSS_Dilation\"],\n",
    "    #TSCStrategy(TimeSeriesForestClassifier(n_estimators=10), name=\"TimeSeriesForest\"),\n",
    "    #TSCStrategy(ShapeletTransformClassifier(), name=\"ShapeletTransform\"),\n",
    "    #TSCStrategy(ShapeletTransformClassifierDilation(), name=\"ShapeletTransformDilation\"),\n",
    "    [R_DST_Ridge(n_shapelets=10_000, n_jobs=1), \"RDST\"]\n",
    "]\n",
    "\n",
    "results = []"
   ]
  },
  {
   "cell_type": "markdown",
   "metadata": {},
   "source": [
    "### Benchmark ###"
   ]
  },
  {
   "cell_type": "code",
   "execution_count": 19,
   "metadata": {},
   "outputs": [],
   "source": [
    "\n",
    "for clf in clfs:\n",
    "    for dataset in datasets:\n",
    "        X_train, y_train = load_from_tsfile(dataset._train_path)\n",
    "        X_test, y_test = load_from_tsfile(dataset._test_path)\n",
    "\n",
    "        X_train = from_nested_to_3d_numpy(X_train)\n",
    "        X_test = from_nested_to_3d_numpy(X_test)\n",
    "\n",
    "        #Convert class labels to make sure they are between 0,n_classes\n",
    "        le = LabelEncoder().fit(y_train)\n",
    "        y_train = le.transform(y_train)\n",
    "        y_test = le.transform(y_test)\n",
    "\n",
    "        fit_time = time.process_time()\n",
    "        clf[0].fit(X_train, y_train)\n",
    "        fit_time = np.round(time.process_time() - fit_time, 5)\n",
    "\n",
    "        predict_time = time.process_time()\n",
    "        y_pred = clf[0].predict(X_test)\n",
    "        pred_time = np.round(time.process_time() - predict_time, 5)\n",
    "\n",
    "        acc = np.round(accuracy_score(y_test, y_pred), 5)\n",
    "\n",
    "        results.append((clf[1], dataset, acc, fit_time, pred_time))\n",
    "        pd.DataFrame.from_records(\n",
    "            results,\n",
    "            columns=[\n",
    "                \"Classifier\",\n",
    "                \"Dataset\",\n",
    "                \"Accuracy\",\n",
    "                \"Fit-Time\",\n",
    "                \"Predict-Time\",\n",
    "            ],\n",
    "        ).to_csv(\"results.csv\", index=None)\n"
   ]
  }
 ],
 "metadata": {
  "kernelspec": {
   "display_name": "Python 3.8.13 ('test')",
   "language": "python",
   "name": "python3"
  },
  "language_info": {
   "codemirror_mode": {
    "name": "ipython",
    "version": 3
   },
   "file_extension": ".py",
   "mimetype": "text/x-python",
   "name": "python",
   "nbconvert_exporter": "python",
   "pygments_lexer": "ipython3",
   "version": "3.8.13"
  },
  "orig_nbformat": 4,
  "vscode": {
   "interpreter": {
    "hash": "f5e8a44a3d7d6b224416d51d7970e813dc6f6a515ebedecba73c2d67b35043e5"
   }
  }
 },
 "nbformat": 4,
 "nbformat_minor": 2
}
