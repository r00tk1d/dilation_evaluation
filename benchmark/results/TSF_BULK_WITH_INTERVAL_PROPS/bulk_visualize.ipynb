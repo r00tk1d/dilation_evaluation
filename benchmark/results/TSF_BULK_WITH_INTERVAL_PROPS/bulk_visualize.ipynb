{
 "cells": [
  {
   "cell_type": "code",
   "execution_count": null,
   "metadata": {},
   "outputs": [],
   "source": [
    "from typing import List\n",
    "import matplotlib.pyplot as plt\n",
    "import pandas as pd\n",
    "import seaborn as sns\n",
    "\n",
    "df = pd.read_csv(\"TSF_BULK_WITH_INTERVAL_PROPS_av.csv\")\n",
    "\n",
    "num_of_random_dilations_dict = {}\n",
    "\n",
    "\n",
    "\n",
    "\n",
    "for i, result_df in enumerate(dfs):\n",
    "    boxplot_name = result_df['num_of_random_dilations'][0] # hier immer den Parameter wählen der variiert wird\n",
    "    acc_dict[boxplot_name] = result_df['Accuracy']\n",
    "    feature_count_dict[boxplot_name] = result_df['total_feature_count']\n",
    "\n",
    "acc_dfs = pd.DataFrame(acc_dict)\n",
    "feature_count_dfs = pd.DataFrame(feature_count_dict)\n",
    "\n",
    "sns.set_style('white')\n",
    "sns.despine()\n",
    "sns.boxplot(data=acc_dfs).set_title('Accuracy')\n",
    "plt.xlabel(\"num_of_random_dilations_per_window\")\n",
    "plt.ylabel(\"accuracy in percent\")\n",
    "plt.savefig(\"./results/\" + benchmark_name + \"/\" + benchmark_name + \"_acc.png\")\n",
    "plt.show()\n",
    "plt.clf()"
   ]
  }
 ],
 "metadata": {
  "kernelspec": {
   "display_name": "Python 3.6.15 64-bit",
   "language": "python",
   "name": "python3"
  },
  "language_info": {
   "name": "python",
   "version": "3.6.15"
  },
  "orig_nbformat": 4,
  "vscode": {
   "interpreter": {
    "hash": "31f2aee4e71d21fbe5cf8b01ff0e069b9275f58929596ceb00d14d90e3e16cd6"
   }
  }
 },
 "nbformat": 4,
 "nbformat_minor": 2
}
