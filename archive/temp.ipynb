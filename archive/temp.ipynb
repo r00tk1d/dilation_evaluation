{
 "cells": [
  {
   "cell_type": "code",
   "execution_count": 1,
   "metadata": {},
   "outputs": [],
   "source": [
    "import os\n",
    "import numpy as np\n",
    "import matplotlib.pyplot as plt\n",
    "\n",
    "from sktime.datasets import load_from_ucr_tsv_to_dataframe\n",
    "\n",
    "from sktime.classification.dictionary_based import BOSSEnsemble\n",
    "from sktime.classification.interval_based import TimeSeriesForestClassifier\n",
    "from sktime.classification.shapelet_based import ShapeletTransformClassifier\n",
    "\n",
    "from sklearn.metrics import accuracy_score\n",
    "\n",
    "from sktime.benchmarking.data import UEADataset, make_datasets\n",
    "from sktime.benchmarking.evaluation import Evaluator\n",
    "from sktime.benchmarking.metrics import PairwiseMetric\n",
    "from sktime.benchmarking.orchestration import Orchestrator\n",
    "from sktime.benchmarking.results import HDDResults\n",
    "from sktime.benchmarking.strategies import TSCStrategy\n",
    "from sktime.benchmarking.tasks import TSCTask\n",
    "\n",
    "from sktime.series_as_features.model_selection import PresplitFilesCV\n",
    "\n"
   ]
  },
  {
   "cell_type": "code",
   "execution_count": 10,
   "metadata": {},
   "outputs": [
    {
     "ename": "TypeError",
     "evalue": "First element of field tuple is neither a tuple nor str",
     "output_type": "error",
     "traceback": [
      "\u001b[0;31m---------------------------------------------------------------------------\u001b[0m",
      "\u001b[0;31mTypeError\u001b[0m                                 Traceback (most recent call last)",
      "\u001b[0;32m<ipython-input-10-496342f21b55>\u001b[0m in \u001b[0;36m<module>\u001b[0;34m\u001b[0m\n\u001b[1;32m      1\u001b[0m \u001b[0;32mimport\u001b[0m \u001b[0mnumpy\u001b[0m \u001b[0;32mas\u001b[0m \u001b[0mnp\u001b[0m\u001b[0;34m\u001b[0m\u001b[0;34m\u001b[0m\u001b[0m\n\u001b[0;32m----> 2\u001b[0;31m \u001b[0mintervals\u001b[0m \u001b[0;34m=\u001b[0m \u001b[0mnp\u001b[0m\u001b[0;34m.\u001b[0m\u001b[0mzeros\u001b[0m\u001b[0;34m(\u001b[0m\u001b[0;34m(\u001b[0m\u001b[0;36m10\u001b[0m\u001b[0;34m,\u001b[0m \u001b[0;36m3\u001b[0m\u001b[0;34m)\u001b[0m\u001b[0;34m,\u001b[0m \u001b[0mdtype\u001b[0m\u001b[0;34m=\u001b[0m\u001b[0;34m[\u001b[0m\u001b[0;34m(\u001b[0m\u001b[0mint\u001b[0m\u001b[0;34m,\u001b[0m \u001b[0mint\u001b[0m\u001b[0;34m,\u001b[0m \u001b[0mobject\u001b[0m\u001b[0;34m)\u001b[0m\u001b[0;34m]\u001b[0m\u001b[0;34m)\u001b[0m\u001b[0;34m\u001b[0m\u001b[0;34m\u001b[0m\u001b[0m\n\u001b[0m\u001b[1;32m      3\u001b[0m \u001b[0mprint\u001b[0m\u001b[0;34m(\u001b[0m\u001b[0mintervals\u001b[0m\u001b[0;34m)\u001b[0m\u001b[0;34m\u001b[0m\u001b[0;34m\u001b[0m\u001b[0m\n\u001b[1;32m      4\u001b[0m \u001b[0;34m\u001b[0m\u001b[0m\n\u001b[1;32m      5\u001b[0m \u001b[0;31m#intervals[0][0] = [1,2]\u001b[0m\u001b[0;34m\u001b[0m\u001b[0;34m\u001b[0m\u001b[0;34m\u001b[0m\u001b[0m\n",
      "\u001b[0;31mTypeError\u001b[0m: First element of field tuple is neither a tuple nor str"
     ]
    }
   ],
   "source": [
    "import numpy as np\n",
    "intervals = np.zeros((10, 3), dtype=[(int, int, object)])\n",
    "print(intervals)\n",
    "\n",
    "#intervals[0][0] = [1,2]\n",
    "\n",
    "#print(intervals[0][0])"
   ]
  },
  {
   "cell_type": "code",
   "execution_count": null,
   "metadata": {},
   "outputs": [],
   "source": [
    "def benchmark_clf(clf, dataset):\n",
    "    result = pd.DataFrame(columns=clf[2])\n",
    "    X_train, y_train = load_from_tsfile(dataset._train_path)\n",
    "    X_test, y_test = load_from_tsfile(dataset._test_path)\n",
    "\n",
    "    X_train = from_nested_to_3d_numpy(X_train)\n",
    "    X_test = from_nested_to_3d_numpy(X_test)\n",
    "\n",
    "    # Convert class labels to make sure they are between 0,n_classes\n",
    "    le = LabelEncoder().fit(y_train)\n",
    "    y_train = le.transform(y_train)\n",
    "    y_test = le.transform(y_test)\n",
    "    \n",
    "    # z normalize data\n",
    "    #X_train = zscore(X_train, axis=1)\n",
    "    #X_test = zscore(X_test, axis=1)\n",
    "\n",
    "    try:\n",
    "        fit_time = time.process_time()\n",
    "        clf[0].fit(X_train, y_train)\n",
    "        fit_time = np.round(time.process_time() - fit_time, 5)\n",
    "\n",
    "        predict_time = time.process_time()\n",
    "        y_pred = clf[0].predict(X_test)\n",
    "        predict_time = np.round(time.process_time() - predict_time, 5)\n",
    "        \n",
    "        acc = np.round(accuracy_score(y_test, y_pred), 5)\n",
    "        try:\n",
    "            feature_count = clf[0].feature_count * clf[0].num_of_random_dilations\n",
    "        except:\n",
    "            feature_count = \"NULL\"\n",
    "        result.loc[len(result)] = [clf[1], dataset.name, acc, fit_time, predict_time, feature_count] + clf[3]\n",
    "        \n",
    "        print(f\"clf {clf[1]} dataset {dataset.name} done\")\n",
    "    except Exception as e:\n",
    "        print(f\"ERROR {e} for dataset {dataset.name} clf {clf[1]}\")\n",
    "    return result\n",
    "\n",
    "\n",
    "\n",
    "def benchmark(clfs, datasets):\n",
    "    for clf in clfs:\n",
    "        results = pd.concat(Parallel(n_jobs=-1)(delayed(benchmark_clf)(clf, dataset)for dataset in datasets), ignore_index=True)\n",
    "        results_from_clf = results.loc[results[\"Classifier\"] == clf[1]]\n",
    "        av_acc = results_from_clf[\"Accuracy\"].mean()\n",
    "        av_fit_time = results_from_clf[\"Fit-Time\"].mean()\n",
    "        av_pred_time = results_from_clf[\"Predict-Time\"].mean()\n",
    "        feature_count = results_from_clf[\"total_feature_count\"].iat[0]\n",
    "\n",
    "        av_results = pd.DataFrame(columns=clf[2])\n",
    "        av_results.loc[len(av_results)] = [clf[1], \"ALL_AVERAGE\", av_acc, av_fit_time, av_pred_time, feature_count] + clf[3]\n",
    "\n",
    "        results = pd.concat([results, av_results], ignore_index=True)\n",
    "\n",
    "        if not os.path.isfile(\"./results/\" + clf[1] + \"_results.csv\"):\n",
    "            results.to_csv(\"./results/\" + clf[1] + \"_results.csv\", header=True)\n",
    "        else:\n",
    "            results.to_csv(\"./results/\" + clf[1] + \"_results.csv\", mode='a', header=False)\n",
    "        print(f\"clf {clf[1]} done\")\n",
    "        print(av_results[['Classifier', 'Accuracy', 'Fit-Time', 'Predict-Time', 'total_feature_count']])\n",
    "        results = results[0:0]\n",
    "        av_results = av_results[0:0]"
   ]
  },
  {
   "cell_type": "code",
   "execution_count": 10,
   "metadata": {},
   "outputs": [
    {
     "name": "stdout",
     "output_type": "stream",
     "text": [
      "(2, 8)\n",
      "[[-1.7191528 -1.7508808 -1.7962728 -1.8413449 -1.8842889 -1.9053929\n",
      "  -1.9239049 -1.9091529]\n",
      " [-1.5399724 -1.59015   -1.6356635 -1.6399894 -1.6786829 -1.7292269\n",
      "  -1.7756704 -1.7893245]]\n",
      "[[-1.7508808 -1.7962728]\n",
      " [-1.59015   -1.6356635]]\n",
      "[[-1.7191528 -1.7962728 -1.8842889 -1.9239049 -1.7508808 -1.8413449\n",
      "  -1.9053929 -1.9091529]\n",
      " [-1.5399724 -1.6356635 -1.6786829 -1.7756704 -1.59015   -1.6399894\n",
      "  -1.7292269 -1.7893245]]\n"
     ]
    }
   ],
   "source": [
    "import numpy as np\n",
    "X_data = np.array([[-1.7191528, -1.7508808, -1.7962728, -1.8413449, -1.8842889,\n",
    "        -1.9053929, -1.9239049, -1.9091529],\n",
    "       [-1.5399724, -1.59015  , -1.6356635, -1.6399894, -1.6786829,\n",
    "        -1.7292269, -1.7756704, -1.7893245]])\n",
    "print(X_data.shape)\n",
    "# in Testdaten ist der shape (36,1,251) -> 36 Timeseries, 251 \n",
    "d_dilation = 2\n",
    "\n",
    "#X_data = X_data.squeeze(1)\n",
    "print(X_data)\n",
    "\n",
    "X_slice = X_data[:, 1 : 3]\n",
    "\n",
    "print(X_slice)\n",
    "\n",
    "def dilation(X, d):\n",
    "  first = X[:, 0::d]\n",
    "  for i in range(1, d):\n",
    "    second = X[:, i::d]\n",
    "    first = np.concatenate((first, second), axis=1)\n",
    "    return first\n",
    "    \n",
    "print(dilation(X_data, d_dilation))"
   ]
  },
  {
   "cell_type": "code",
   "execution_count": 3,
   "metadata": {},
   "outputs": [
    {
     "name": "stderr",
     "output_type": "stream",
     "text": [
      "/home/michael/git/sktime_dilation/sktime/benchmarking/base.py:158: UserWarning: Existing results file found in given path: results. Results file will be updated\n",
      "  warn(\n"
     ]
    },
    {
     "data": {
      "text/plain": [
       "(<Figure size 432x288 with 1 Axes>,\n",
       " <AxesSubplot:title={'center':'accuracy by strategy'}, xlabel='strategies', ylabel='accuracy'>)"
      ]
     },
     "execution_count": 3,
     "metadata": {},
     "output_type": "execute_result"
    },
    {
     "data": {
      "image/png": "[encoded data removed]",
      "text/plain": [
       "<Figure size 432x288 with 1 Axes>"
      ]
     },
     "metadata": {},
     "output_type": "display_data"
    }
   ],
   "source": [
    "\n",
    "DATA_PATH = \"./Univariate_ts\"\n",
    "RESULTS_PATH = \"results\"\n",
    "\n",
    "datasets = make_datasets(\n",
    "    path=DATA_PATH, dataset_cls=UEADataset, names=[\"ArrowHead\", \"ItalyPowerDemand\"]\n",
    ")\n",
    "\n",
    "tasks = [TSCTask(target=\"target\") for _ in range(len(datasets))]\n",
    "\n",
    "strategies = [\n",
    "    TSCStrategy(BOSSEnsemble(), name=\"BOSS\"),\n",
    "    TSCStrategy(TimeSeriesForestClassifier(n_estimators=10), name=\"TimeSeriesForest\"),\n",
    "    TSCStrategy(ShapeletTransformClassifier(), name=\"ShapeletTransform\"),\n",
    "]\n",
    "\n",
    "results = HDDResults(path=RESULTS_PATH)\n",
    "\n",
    "# run orchestrator\n",
    "orchestrator = Orchestrator(\n",
    "    datasets=datasets,\n",
    "    tasks=tasks,\n",
    "    strategies=strategies,\n",
    "    cv=PresplitFilesCV(),\n",
    "    results=results,\n",
    ")\n",
    "orchestrator.fit_predict(save_fitted_strategies=False, overwrite_predictions=True)\n",
    "\n",
    "evaluator = Evaluator(results)\n",
    "metric = PairwiseMetric(func=accuracy_score, name=\"accuracy\")\n",
    "\n",
    "\n",
    "# 1. accuracy\n",
    "print(evaluator.evaluate(metric=metric))\n",
    "evaluator.plot_boxplots()\n",
    "# 2. runtime\n",
    "print(evaluator.fit_runtime(unit='s'))\n",
    "# 3. memory\n"
   ]
  },
  {
   "cell_type": "markdown",
   "metadata": {},
   "source": [
    "## Single Test ##"
   ]
  },
  {
   "cell_type": "code",
   "execution_count": 7,
   "metadata": {},
   "outputs": [
    {
     "name": "stdout",
     "output_type": "stream",
     "text": [
      "0.52\n",
      "0.7428571428571429\n"
     ]
    }
   ],
   "source": [
    "DATA_PATH = \"./UCRArchive_2018\"\n",
    "\n",
    "X_train, y_train = load_from_ucr_tsv_to_dataframe(os.path.join(DATA_PATH, \"ArrowHead/ArrowHead_TRAIN.tsv\"))\n",
    "X_test, y_test = load_from_ucr_tsv_to_dataframe(os.path.join(DATA_PATH, \"ArrowHead/ArrowHead_TEST.tsv\"))\n",
    "\n",
    "# X_train: input: used to train the model\n",
    "# y_train: output/labels for the training data to adjust the training\n",
    "# X_test: input: tests the accuracy of the model after the training phase\n",
    "# y_test: output/labels for the test data. used to test the accuracy between actual and predicted categories\n",
    "\n",
    "# print(X_train.shape, y_train.shape, X_test.shape, y_test.shape)\n",
    "\n",
    "# labels, counts = np.unique(y_train, return_counts=True)\n",
    "# print(labels, counts)\n",
    "\n",
    "# fig, ax = plt.subplots(1, figsize=plt.figaspect(0.25))\n",
    "# for label in labels:\n",
    "#     X_train.loc[y_train == label, \"dim_0\"].iloc[0].plot(ax=ax, label=f\"class {label}\")\n",
    "# plt.legend()\n",
    "# ax.set(title=\"Example time series\", xlabel=\"Time\")\n",
    "\n",
    "clf = IndividualBOSS()\n",
    "clf.fit(X_train, y_train)\n",
    "\n",
    "y_pred = clf.predict(X_test)\n",
    "\n",
    "print(accuracy_score(y_test, y_pred))\n",
    "\n",
    "# initialize the classifier object and fit the model on x_train and # y_train\n",
    "clf = TimeSeriesForestClassifier()\n",
    "clf.fit(X_train, y_train)\n",
    "\n",
    "#make predictions and print the accuracy score for performance\n",
    "y_pred = clf.predict(X_test)\n",
    "\n",
    "print(accuracy_score(y_test, y_pred))"
   ]
  },
  {
   "cell_type": "markdown",
   "metadata": {},
   "source": [
    "## Set Parameters ##"
   ]
  },
  {
   "cell_type": "code",
   "execution_count": null,
   "metadata": {},
   "outputs": [],
   "source": [
    "dilation_size = 4"
   ]
  },
  {
   "cell_type": "markdown",
   "metadata": {},
   "source": [
    "## Dilation Step ##"
   ]
  },
  {
   "cell_type": "code",
   "execution_count": null,
   "metadata": {},
   "outputs": [],
   "source": [
    "def dilation(X, d):\n",
    "    first = X[:, :, 0::d]\n",
    "    for i in range(1, d):\n",
    "        second = X[:, :, i::d]\n",
    "        first = np.concatenate((first, second), axis=2)\n",
    "    return first\n",
    "\n",
    "X_train_dilated = dilation(X_train, dilation_size)"
   ]
  },
  {
   "cell_type": "markdown",
   "metadata": {},
   "source": [
    "# conv shapelet dilation #"
   ]
  },
  {
   "cell_type": "code",
   "execution_count": 32,
   "metadata": {},
   "outputs": [
    {
     "name": "stdout",
     "output_type": "stream",
     "text": [
      "hi\n",
      "Accuracy Score for RDST : 0.8571428571428571\n"
     ]
    }
   ],
   "source": [
    "from convst.classifiers import R_DST_Ridge\n",
    "from convst.utils.dataset_utils import load_sktime_dataset_split\n",
    "\n",
    "from sktime.datasets import load_from_ucr_tsv_to_dataframe\n",
    "from sktime.datasets import load_from_tsfile\n",
    "\n",
    "from sktime.datatypes._panel._convert import from_nested_to_3d_numpy\n",
    "\n",
    "from sklearn.preprocessing import LabelEncoder\n",
    "# X_train, X_test, y_train, y_test, _ = load_sktime_dataset_split(\n",
    "#     'ArrowHead', normalize=True\n",
    "# )\n",
    "\n",
    "#DATA_PATH = \"./UCRArchive_2018\"\n",
    "DATA_PATH = \"./Univariate_ts\"\n",
    "\n",
    "qX_train, qy_train = load_from_ucr_tsv_to_dataframe(\"./UCRArchive_2018/ArrowHead/ArrowHead_TRAIN.tsv\")\n",
    "qX_test, qy_test = load_from_ucr_tsv_to_dataframe(\"./UCRArchive_2018/ArrowHead/ArrowHead_TEST.tsv\")\n",
    "qX_train = from_nested_to_3d_numpy(qX_train)\n",
    "qX_test = from_nested_to_3d_numpy(qX_test)\n",
    "\n",
    "X_train, y_train = load_from_tsfile(\n",
    "    os.path.join(DATA_PATH, \"ArrowHead/ArrowHead_TRAIN.ts\")\n",
    ")\n",
    "X_test, y_test = load_from_tsfile(\n",
    "    os.path.join(DATA_PATH, \"ArrowHead/ArrowHead_TEST.ts\")\n",
    ")\n",
    "\n",
    "X_train = from_nested_to_3d_numpy(X_train)\n",
    "X_test = from_nested_to_3d_numpy(X_test)\n",
    "\n",
    "#Convert class labels to make sure they are between 0,n_classes\n",
    "le = LabelEncoder().fit(y_train)\n",
    "y_train = le.transform(y_train)\n",
    "y_test = le.transform(y_test)\n",
    "\n",
    "\n",
    "print(\"hi\")\n",
    "\n",
    "# First run may be slow due to numba compilations on the first call. \n",
    "# Run a small dataset like GunPoint if this is the first time you call RDST on your system.\n",
    "# You can change n_shapelets to 1 to make this process faster. The n_jobs parameter can\n",
    "# also be changed to increase speed once numba compilation are done.\n",
    "\n",
    "rdst = R_DST_Ridge(n_shapelets=10_000, n_jobs=1).fit(X_train, y_train)\n",
    "\n",
    "print(\"Accuracy Score for RDST : {}\".format(rdst.score(X_test, y_test)))"
   ]
  },
  {
   "cell_type": "code",
   "execution_count": null,
   "metadata": {},
   "outputs": [],
   "source": [
    "def convst(datasets):\n",
    "    for dataset in datasets:\n",
    "        X_train, y_train = load_from_tsfile(dataset._train_path)\n",
    "        X_test, y_test = load_from_tsfile(dataset._test_path)\n",
    "\n",
    "        X_train = from_nested_to_3d_numpy(X_train)\n",
    "        X_test = from_nested_to_3d_numpy(X_test)\n",
    "\n",
    "        #Convert class labels to make sure they are between 0,n_classes\n",
    "        le = LabelEncoder().fit(y_train)\n",
    "        y_train = le.transform(y_train)\n",
    "        y_test = le.transform(y_test)\n",
    "\n",
    "        fit_time = time.process_time()\n",
    "        rdst = R_DST_Ridge(n_shapelets=10_000, n_jobs=1).fit(X_train, y_train)\n",
    "        fit_time = np.round(time.process_time() - fit_time, 5)\n",
    "\n",
    "        predict_time = time.process_time()\n",
    "        x = rdst.predict(X_test)\n",
    "        predict_time = np.round(time.process_time() - predict_time, 5)\n",
    "\n",
    "        acc = np.round(accuracy_score(y_test, x), 5)\n",
    "\n",
    "        print(\"fit Score for RDST\" ,\": {}\".format(fit_time))\n",
    "        print(\"predict Score for RDST\" ,\": {}\".format(predict_time))\n",
    "        print(\"Accuracy Score for RDST\" ,\": {}\".format(acc))\n",
    "\n",
    "def sktime_clfs(datasets):\n",
    "    tasks = [TSCTask(target=\"target\") for _ in range(len(datasets))]\n",
    "\n",
    "    strategies = [\n",
    "        TSCStrategy(BOSSEnsemble(), name=\"BOSS\"),\n",
    "        #TSCStrategy(BOSSEnsembleDilation(max_dilation=max_d, min_dilation=1), name=\"BOSSDilation\"),\n",
    "        #TSCStrategy(TimeSeriesForestClassifier(n_estimators=10), name=\"TimeSeriesForest\"),\n",
    "        #TSCStrategy(ShapeletTransformClassifier(), name=\"ShapeletTransform\"),\n",
    "        #TSCStrategy(ShapeletTransformClassifierDilation(), name=\"ShapeletTransformDilation\"),\n",
    "    ]\n",
    "\n",
    "    results = HDDResults(path=RESULTS_PATH)\n",
    "\n",
    "    # run orchestrator\n",
    "    orchestrator = Orchestrator(\n",
    "        datasets=datasets,\n",
    "        tasks=tasks,\n",
    "        strategies=strategies,\n",
    "        cv=PresplitFilesCV(),\n",
    "        results=results,\n",
    "    )\n",
    "    orchestrator.fit_predict(save_fitted_strategies=False, overwrite_predictions=True)\n",
    "\n",
    "    evaluator = Evaluator(results)\n",
    "    metric = PairwiseMetric(func=accuracy_score, name=\"accuracy\")\n",
    "\n",
    "    # min_max_dilation\n",
    "    # print(\"Dilation Size: \", d_size)\n",
    "    # 1. accuracy\n",
    "    # accuracy = evaluator.evaluate(metric=metric)\n",
    "    # evaluator.plot_boxplots()\n",
    "    # 2. runtime\n",
    "    t = evaluator.fit_runtime(unit='s')\n",
    "    print(t)\n",
    "\n",
    "#convst(datasets=datasets)\n",
    "#sktime_clfs(datasets=datasets)"
   ]
  },
  {
   "cell_type": "code",
   "execution_count": null,
   "metadata": {},
   "outputs": [],
   "source": [
    "X_train, X_test, y_train, y_test, _ = load_sktime_dataset_split(\n",
    "    'GunPoint', normalize=True\n",
    ")\n",
    "\n",
    "# First run may be slow due to numba compilations on the first call. \n",
    "# Run a small dataset like GunPoint if this is the first time you call RDST on your system.\n",
    "# You can change n_shapelets to 1 to make this process faster. The n_jobs parameter can\n",
    "# also be changed to increase speed once numba compilation are done.\n",
    "\n",
    "rdst = R_DST_Ridge(n_shapelets=10_000, n_jobs=1).fit(X_train, y_train)\n",
    "\n",
    "print(\"Accuracy Score for RDST : {}\".format(rdst.score(X_test, y_test)))"
   ]
  }
 ],
 "metadata": {
  "kernelspec": {
   "display_name": "Python 3.6.15 64-bit",
   "language": "python",
   "name": "python3"
  },
  "language_info": {
   "codemirror_mode": {
    "name": "ipython",
    "version": 3
   },
   "file_extension": ".py",
   "mimetype": "text/x-python",
   "name": "python",
   "nbconvert_exporter": "python",
   "pygments_lexer": "ipython3",
   "version": "3.6.15"
  },
  "orig_nbformat": 4,
  "vscode": {
   "interpreter": {
    "hash": "31f2aee4e71d21fbe5cf8b01ff0e069b9275f58929596ceb00d14d90e3e16cd6"
   }
  }
 },
 "nbformat": 4,
 "nbformat_minor": 2
}
